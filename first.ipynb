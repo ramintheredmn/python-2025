{
 "cells": [
  {
   "cell_type": "markdown",
   "id": "9c0f0c20-4222-4598-a306-4cc3d916d9c0",
   "metadata": {},
   "source": [
    "## Welcome to the jupyter-lab\n",
    "### This is a markdown cell\n",
    "\n",
    "Everything you wrote here won't be executed\n",
    "\n",
    "you can convert a cell code to markdown cell with 'm' key on the keyboard and 'y' is for converting markdown cell to code cell. you must be in the view mode to see the effects.\n",
    "\n",
    "- Double click or press enter on the cell to enter editing mode.\n",
    "- Ctrl + Enter to run the cell\n",
    "- Shift + Enter to run the cell and jump to the next cell\n",
    "_below is a code cell example_\n"
   ]
  },
  {
   "cell_type": "code",
   "execution_count": 2,
   "id": "91940f35-55eb-467a-bfcb-9c25d705b7b2",
   "metadata": {},
   "outputs": [
    {
     "name": "stdout",
     "output_type": "stream",
     "text": [
      "This is a Code Cell\n"
     ]
    }
   ],
   "source": [
    "print(\"This is a Code Cell\")"
   ]
  },
  {
   "cell_type": "markdown",
   "id": "ead3fafb-b57d-4233-8c37-0652186c5b91",
   "metadata": {},
   "source": [
    "## Arithmetic operators"
   ]
  },
  {
   "cell_type": "code",
   "execution_count": 5,
   "id": "5f199fb5-3c57-44ef-967f-898bda4b4cfb",
   "metadata": {},
   "outputs": [
    {
     "data": {
      "text/plain": [
       "846"
      ]
     },
     "execution_count": 5,
     "metadata": {},
     "output_type": "execute_result"
    }
   ],
   "source": [
    "834 + 12"
   ]
  },
  {
   "cell_type": "code",
   "execution_count": 4,
   "id": "33b8a0b3-3e1c-42ea-9f80-1cc09d2f9b9c",
   "metadata": {},
   "outputs": [
    {
     "data": {
      "text/plain": [
       "99"
      ]
     },
     "execution_count": 4,
     "metadata": {},
     "output_type": "execute_result"
    }
   ],
   "source": [
    "100 - 1"
   ]
  },
  {
   "cell_type": "code",
   "execution_count": 5,
   "id": "c2cd9ecc-eb11-4285-acba-c47149cb510c",
   "metadata": {},
   "outputs": [
    {
     "data": {
      "text/plain": [
       "35576"
      ]
     },
     "execution_count": 5,
     "metadata": {},
     "output_type": "execute_result"
    }
   ],
   "source": [
    "4447 * 8"
   ]
  },
  {
   "cell_type": "code",
   "execution_count": 6,
   "id": "0c7a7ddb-5c04-4c00-b37a-aa36f269712b",
   "metadata": {},
   "outputs": [
    {
     "data": {
      "text/plain": [
       "1.25"
      ]
     },
     "execution_count": 6,
     "metadata": {},
     "output_type": "execute_result"
    }
   ],
   "source": [
    "5 / 4"
   ]
  },
  {
   "cell_type": "code",
   "execution_count": 7,
   "id": "2c929487-d745-4ba6-8706-dd8d68f36289",
   "metadata": {},
   "outputs": [
    {
     "data": {
      "text/plain": [
       "4"
      ]
     },
     "execution_count": 7,
     "metadata": {},
     "output_type": "execute_result"
    }
   ],
   "source": [
    "17 // 4"
   ]
  },
  {
   "cell_type": "code",
   "execution_count": 8,
   "id": "476918bf-29bb-4573-b936-2d2a7afb674b",
   "metadata": {},
   "outputs": [
    {
     "data": {
      "text/plain": [
       "1"
      ]
     },
     "execution_count": 8,
     "metadata": {},
     "output_type": "execute_result"
    }
   ],
   "source": [
    "5 % 4"
   ]
  },
  {
   "cell_type": "code",
   "execution_count": 9,
   "id": "2a3dc4e7-0120-4248-b2a5-ad2d5d29603e",
   "metadata": {},
   "outputs": [
    {
     "data": {
      "text/plain": [
       "25"
      ]
     },
     "execution_count": 9,
     "metadata": {},
     "output_type": "execute_result"
    }
   ],
   "source": [
    "5 ** 2"
   ]
  },
  {
   "cell_type": "code",
   "execution_count": 10,
   "id": "687e5c80-6d9a-4e25-bec7-797650cab4ce",
   "metadata": {},
   "outputs": [
    {
     "data": {
      "text/plain": [
       "1"
      ]
     },
     "execution_count": 10,
     "metadata": {},
     "output_type": "execute_result"
    }
   ],
   "source": [
    "10 ^ 11 # XOR bitwise operator not exponentiation"
   ]
  },
  {
   "cell_type": "markdown",
   "id": "ccf54ab2-616b-4e08-88af-bfcc12b5631d",
   "metadata": {},
   "source": [
    "### Order of operations in an expression"
   ]
  },
  {
   "cell_type": "code",
   "execution_count": 15,
   "id": "40ae1f4d-9b72-4845-b7f8-8606667a7387",
   "metadata": {},
   "outputs": [
    {
     "data": {
      "text/plain": [
       "0"
      ]
     },
     "execution_count": 15,
     "metadata": {},
     "output_type": "execute_result"
    }
   ],
   "source": [
    "-5**2 + 25"
   ]
  },
  {
   "cell_type": "markdown",
   "id": "df8a6979-fc56-4ea3-9e28-5d1a60602ca5",
   "metadata": {},
   "source": [
    "### Arithmatic Functions"
   ]
  },
  {
   "cell_type": "code",
   "execution_count": 6,
   "id": "6ab26f18-5824-40cd-ab1b-704f4d4721cb",
   "metadata": {},
   "outputs": [
    {
     "data": {
      "text/plain": [
       "6"
      ]
     },
     "execution_count": 6,
     "metadata": {},
     "output_type": "execute_result"
    }
   ],
   "source": [
    "round(5.5)"
   ]
  },
  {
   "cell_type": "code",
   "execution_count": 20,
   "id": "1505eb1e-7f82-4843-9f47-1c25baf123e9",
   "metadata": {},
   "outputs": [
    {
     "data": {
      "text/plain": [
       "5"
      ]
     },
     "execution_count": 20,
     "metadata": {},
     "output_type": "execute_result"
    }
   ],
   "source": [
    "abs(5)"
   ]
  },
  {
   "cell_type": "code",
   "execution_count": 7,
   "id": "6011cdd9-3a40-4d8e-87a6-fc1621caa5bc",
   "metadata": {},
   "outputs": [
    {
     "data": {
      "text/plain": [
       "5"
      ]
     },
     "execution_count": 7,
     "metadata": {},
     "output_type": "execute_result"
    }
   ],
   "source": [
    "abs(-5)"
   ]
  },
  {
   "cell_type": "markdown",
   "id": "6bb7fb83-2991-4537-9d3b-b057aa0f0f10",
   "metadata": {},
   "source": [
    "## Strings in python"
   ]
  },
  {
   "cell_type": "code",
   "execution_count": 22,
   "id": "51372051-4104-43c1-9407-5a4dec4ccc4d",
   "metadata": {},
   "outputs": [
    {
     "data": {
      "text/plain": [
       "'Hello'"
      ]
     },
     "execution_count": 22,
     "metadata": {},
     "output_type": "execute_result"
    }
   ],
   "source": [
    "'Hello'"
   ]
  },
  {
   "cell_type": "code",
   "execution_count": 24,
   "id": "5794a2ec-de1a-4370-a366-e41f0d6f0598",
   "metadata": {},
   "outputs": [
    {
     "data": {
      "text/plain": [
       "'world'"
      ]
     },
     "execution_count": 24,
     "metadata": {},
     "output_type": "execute_result"
    }
   ],
   "source": [
    "\"world\""
   ]
  },
  {
   "cell_type": "code",
   "execution_count": 25,
   "id": "f7edf7c1-c5c3-4ee0-877b-bd0121de43f3",
   "metadata": {},
   "outputs": [
    {
     "data": {
      "text/plain": [
       "\"Ramin's book\""
      ]
     },
     "execution_count": 25,
     "metadata": {},
     "output_type": "execute_result"
    }
   ],
   "source": [
    "\"Ramin's book\""
   ]
  },
  {
   "cell_type": "code",
   "execution_count": 26,
   "id": "b2f9f1c1-127e-403d-8048-5090d686c28a",
   "metadata": {},
   "outputs": [
    {
     "ename": "SyntaxError",
     "evalue": "unterminated string literal (detected at line 1) (511148876.py, line 1)",
     "output_type": "error",
     "traceback": [
      "\u001b[0;36m  Cell \u001b[0;32mIn[26], line 1\u001b[0;36m\u001b[0m\n\u001b[0;31m    'ramin's book'\u001b[0m\n\u001b[0m                 ^\u001b[0m\n\u001b[0;31mSyntaxError\u001b[0m\u001b[0;31m:\u001b[0m unterminated string literal (detected at line 1)\n"
     ]
    }
   ],
   "source": [
    "'ramin's book'"
   ]
  },
  {
   "cell_type": "markdown",
   "id": "206cc198-62a9-4e0e-8975-cda313d3c0d7",
   "metadata": {},
   "source": [
    "## Variables\n",
    "\n",
    "A variable is a name that refers to a value. To create a variable, we can write an assignment statement like this:\n",
    "\n",
    "an assignment statement will have 3 parts, the name of the variable on the left, equal sign and the expression on the right"
   ]
  },
  {
   "cell_type": "code",
   "execution_count": 8,
   "id": "99008bae-4fc1-477b-a273-2132d90d98cb",
   "metadata": {},
   "outputs": [],
   "source": [
    "x = 4"
   ]
  },
  {
   "cell_type": "code",
   "execution_count": 9,
   "id": "96e385f6-0f21-483d-97bc-fc3c65a7772a",
   "metadata": {},
   "outputs": [
    {
     "data": {
      "text/plain": [
       "9"
      ]
     },
     "execution_count": 9,
     "metadata": {},
     "output_type": "execute_result"
    }
   ],
   "source": [
    "5 + x"
   ]
  },
  {
   "cell_type": "code",
   "execution_count": null,
   "id": "8feaa426-c0c0-40b9-8d82-c2ff7cb017eb",
   "metadata": {},
   "outputs": [],
   "source": []
  },
  {
   "cell_type": "markdown",
   "id": "10bf85f7-aa36-4d25-b714-0876f98239de",
   "metadata": {},
   "source": [
    "## the import statement\n",
    "\n",
    "In order to use some python features, we need to import them. "
   ]
  },
  {
   "cell_type": "code",
   "execution_count": 14,
   "id": "579473af-39cf-422e-83cf-c690ebac24cb",
   "metadata": {},
   "outputs": [],
   "source": [
    "import math"
   ]
  },
  {
   "cell_type": "code",
   "execution_count": 15,
   "id": "f32096a8-db9d-420e-8315-5a8b47aae691",
   "metadata": {},
   "outputs": [
    {
     "data": {
      "text/plain": [
       "3.141592653589793"
      ]
     },
     "execution_count": 15,
     "metadata": {},
     "output_type": "execute_result"
    }
   ],
   "source": [
    "math.pi"
   ]
  },
  {
   "cell_type": "code",
   "execution_count": 16,
   "id": "af134c9d-1567-4a14-af2e-3d69366fb1e8",
   "metadata": {},
   "outputs": [
    {
     "data": {
      "text/plain": [
       "5.0"
      ]
     },
     "execution_count": 16,
     "metadata": {},
     "output_type": "execute_result"
    }
   ],
   "source": [
    "math.sqrt(25)"
   ]
  },
  {
   "cell_type": "markdown",
   "id": "f62fc496-6d0f-4d50-a9a5-152fe5cdd5e6",
   "metadata": {},
   "source": [
    "## output and input"
   ]
  },
  {
   "cell_type": "markdown",
   "id": "89bc5edd-b6f6-4467-bbb9-6dceb1868a20",
   "metadata": {},
   "source": [
    "### Print function\n",
    "\n",
    "prints the specified message to the screen"
   ]
  },
  {
   "cell_type": "code",
   "execution_count": 17,
   "id": "e096ed8a-0a67-4fc4-9721-f907c5fadb87",
   "metadata": {},
   "outputs": [
    {
     "name": "stdout",
     "output_type": "stream",
     "text": [
      "4\n"
     ]
    }
   ],
   "source": [
    "print(4)"
   ]
  },
  {
   "cell_type": "code",
   "execution_count": 18,
   "id": "682d694a-4309-44d0-9730-451e228819f7",
   "metadata": {},
   "outputs": [
    {
     "name": "stdout",
     "output_type": "stream",
     "text": [
      "Hello, world!\n"
     ]
    }
   ],
   "source": [
    "print(\"Hello, world!\")"
   ]
  },
  {
   "cell_type": "markdown",
   "id": "b2b5bcfc-f686-4185-b870-995dd5b8be37",
   "metadata": {},
   "source": [
    "### input function"
   ]
  },
  {
   "cell_type": "code",
   "execution_count": 19,
   "id": "1dca3aa9-d1b4-4e58-8af8-45581b3dc955",
   "metadata": {},
   "outputs": [
    {
     "name": "stdin",
     "output_type": "stream",
     "text": [
      "Enter your name :  Ramin\n"
     ]
    },
    {
     "name": "stdout",
     "output_type": "stream",
     "text": [
      "Hello,  Ramin\n"
     ]
    }
   ],
   "source": [
    "x = input(\"Enter your name : \")\n",
    "print(\"Hello, \", x)"
   ]
  },
  {
   "cell_type": "code",
   "execution_count": 22,
   "id": "5d67a0b2-a9e1-4773-8ef6-e1f7280f0be1",
   "metadata": {},
   "outputs": [
    {
     "name": "stdin",
     "output_type": "stream",
     "text": [
      "1 :  2\n"
     ]
    },
    {
     "name": "stdout",
     "output_type": "stream",
     "text": [
      "<class 'int'>\n"
     ]
    },
    {
     "name": "stdin",
     "output_type": "stream",
     "text": [
      "2 :  4\n"
     ]
    },
    {
     "name": "stdout",
     "output_type": "stream",
     "text": [
      "6\n"
     ]
    }
   ],
   "source": [
    "a = int(input(\"1 : \"))\n",
    "print(type(a))\n",
    "b = int(input(\"2 : \"))\n",
    "\n",
    "\n",
    "print(a+b)"
   ]
  },
  {
   "cell_type": "code",
   "execution_count": 20,
   "id": "dd240f01-fe77-48c5-bcc5-da8e361d45af",
   "metadata": {},
   "outputs": [
    {
     "name": "stdout",
     "output_type": "stream",
     "text": [
      "Hello, world\n"
     ]
    }
   ],
   "source": [
    "x = \"Hello, \"\n",
    "y = \"world\"\n",
    "\n",
    "print(x+y)"
   ]
  },
  {
   "attachments": {
    "28252a93-e65a-4db1-b223-f7971f22fb6f.jpg": {
     "image/jpeg": "[encoded data removed]"
    }
   },
   "cell_type": "markdown",
   "id": "ababf76c-5964-49f9-8609-c93d0498eb31",
   "metadata": {},
   "source": [
    "![bug.jpg](attachment:28252a93-e65a-4db1-b223-f7971f22fb6f.jpg)"
   ]
  },
  {
   "cell_type": "markdown",
   "id": "8111d700-def1-4d5a-9aa3-b31463ea0fe7",
   "metadata": {},
   "source": [
    "## Arguments"
   ]
  },
  {
   "cell_type": "code",
   "execution_count": 28,
   "id": "b77f2ef6-381a-405e-bf61-214f2d7fe417",
   "metadata": {},
   "outputs": [
    {
     "name": "stdout",
     "output_type": "stream",
     "text": [
      "ramin\n"
     ]
    }
   ],
   "source": [
    "print(\"ramin\")"
   ]
  },
  {
   "cell_type": "code",
   "execution_count": 49,
   "id": "0b4f9231-1cec-4833-b01a-dece7f0e56f0",
   "metadata": {},
   "outputs": [
    {
     "data": {
      "text/plain": [
       "16.0"
      ]
     },
     "execution_count": 49,
     "metadata": {},
     "output_type": "execute_result"
    }
   ],
   "source": [
    "math.pow(2, 4)"
   ]
  },
  {
   "cell_type": "code",
   "execution_count": 47,
   "id": "357c5062-a389-4a02-999f-1225b2ff1427",
   "metadata": {},
   "outputs": [
    {
     "name": "stdout",
     "output_type": "stream",
     "text": [
      "Hello,  2\n"
     ]
    }
   ],
   "source": [
    "print('Hello, ', x)"
   ]
  },
  {
   "cell_type": "markdown",
   "id": "9eae4e34-e31a-48eb-9681-7d8c51486c30",
   "metadata": {},
   "source": [
    "## Defining new functions"
   ]
  },
  {
   "cell_type": "code",
   "execution_count": 23,
   "id": "f0c42306-f17d-459a-8b5e-a859ce66e0bb",
   "metadata": {},
   "outputs": [],
   "source": [
    "def print_lyrics():\n",
    "    print(\"Can I waste all your time here on the sidewalk?\")\n",
    "    print(\"Can I stand in your light just for a while?\")"
   ]
  },
  {
   "cell_type": "code",
   "execution_count": 24,
   "id": "eff2c68d-fbed-4e43-b286-bfee6be24789",
   "metadata": {},
   "outputs": [
    {
     "data": {
      "text/plain": [
       "<function __main__.print_lyrics()>"
      ]
     },
     "execution_count": 24,
     "metadata": {},
     "output_type": "execute_result"
    }
   ],
   "source": [
    "print_lyrics"
   ]
  },
  {
   "cell_type": "code",
   "execution_count": 25,
   "id": "744c1555-c1fc-4db0-b5cf-ae931e2e27c1",
   "metadata": {},
   "outputs": [
    {
     "name": "stdout",
     "output_type": "stream",
     "text": [
      "Can I waste all your time here on the sidewalk?\n",
      "Can I stand in your light just for a while?\n"
     ]
    }
   ],
   "source": [
    "print_lyrics()"
   ]
  },
  {
   "cell_type": "markdown",
   "id": "095f655f-c2d8-4c43-b3ce-31366684f6e4",
   "metadata": {},
   "source": [
    "### Parameters (Arguments)"
   ]
  },
  {
   "cell_type": "code",
   "execution_count": 6,
   "id": "79bd9192-aa60-4702-8f25-face8336cbdd",
   "metadata": {},
   "outputs": [],
   "source": [
    "def print_twice(string):\n",
    "    print(string)\n",
    "    print(string)"
   ]
  },
  {
   "cell_type": "code",
   "execution_count": 7,
   "id": "7e6779f4-0b68-45d4-9b09-fc54d2dff410",
   "metadata": {},
   "outputs": [
    {
     "ename": "TypeError",
     "evalue": "print_twice() missing 1 required positional argument: 'string'",
     "output_type": "error",
     "traceback": [
      "\u001b[0;31m---------------------------------------------------------------------------\u001b[0m",
      "\u001b[0;31mTypeError\u001b[0m                                 Traceback (most recent call last)",
      "Cell \u001b[0;32mIn[7], line 1\u001b[0m\n\u001b[0;32m----> 1\u001b[0m \u001b[43mprint_twice\u001b[49m\u001b[43m(\u001b[49m\u001b[43m)\u001b[49m\n",
      "\u001b[0;31mTypeError\u001b[0m: print_twice() missing 1 required positional argument: 'string'"
     ]
    }
   ],
   "source": [
    "print_twice()"
   ]
  },
  {
   "cell_type": "code",
   "execution_count": 8,
   "id": "8ef8078e-de00-48ee-9e4e-9d0fa46b17ad",
   "metadata": {},
   "outputs": [
    {
     "name": "stdout",
     "output_type": "stream",
     "text": [
      "Ramin Rafiee\n",
      "Ramin Rafiee\n"
     ]
    }
   ],
   "source": [
    "print_twice(\"Ramin Rafiee\")"
   ]
  },
  {
   "cell_type": "code",
   "execution_count": 39,
   "id": "a9f2ea89-183d-4278-8355-9a1a0b81c82f",
   "metadata": {},
   "outputs": [],
   "source": [
    "import math\n",
    "\n",
    "def calculate_circle_are(r):\n",
    "    area = r**2*math.pi\n",
    "    return(area)"
   ]
  },
  {
   "cell_type": "code",
   "execution_count": 41,
   "id": "ca397d58-b708-4fea-a0f0-13f2fbe48102",
   "metadata": {},
   "outputs": [
    {
     "name": "stdout",
     "output_type": "stream",
     "text": [
      "50.26548245743669\n"
     ]
    }
   ],
   "source": [
    "print(calculate_circle_are(4))"
   ]
  },
  {
   "cell_type": "code",
   "execution_count": 59,
   "id": "bbd4e8e2-39ba-41ff-9988-cd8dbb1eb8e5",
   "metadata": {},
   "outputs": [],
   "source": [
    "### define a function that accepts the length and width of a rectangle and returns the area of the corresponding rectangle"
   ]
  },
  {
   "cell_type": "code",
   "execution_count": null,
   "id": "604bb32d-fa1a-4e20-b382-d4d6347d7504",
   "metadata": {},
   "outputs": [],
   "source": [
    "def a(x, y):\n",
    "    "
   ]
  },
  {
   "cell_type": "code",
   "execution_count": 31,
   "id": "1cdfbf4f-6a36-4f75-8c47-eb2215a8784f",
   "metadata": {},
   "outputs": [
    {
     "name": "stdin",
     "output_type": "stream",
     "text": [
      "adad:  3\n",
      "adad:  4\n"
     ]
    },
    {
     "data": {
      "text/plain": [
       "12"
      ]
     },
     "execution_count": 31,
     "metadata": {},
     "output_type": "execute_result"
    }
   ],
   "source": [
    "a = int(input(\"adad: \"))\n",
    "b = int(input(\"adad: \"))\n",
    "\n",
    "cal_tri(a, b)"
   ]
  },
  {
   "cell_type": "code",
   "execution_count": 30,
   "id": "081a32e3-60b5-4697-b60e-45cdbe875d3a",
   "metadata": {},
   "outputs": [],
   "source": [
    "def cal_tri(l, w):\n",
    "    return l*w"
   ]
  },
  {
   "cell_type": "markdown",
   "id": "eab933d1-0055-4050-92d1-6e086e59f2fd",
   "metadata": {},
   "source": [
    "## Repetition"
   ]
  },
  {
   "cell_type": "markdown",
   "id": "6d0f69a2-ec4e-4e96-b9fd-75365f351ea4",
   "metadata": {},
   "source": [
    "Remember the print_twice function, what if you want more and dynamic repetition? `loop`s help us achive that"
   ]
  },
  {
   "cell_type": "code",
   "execution_count": 9,
   "id": "d7c3812a-9d86-4938-89ba-babe4da49d41",
   "metadata": {},
   "outputs": [],
   "source": [
    "def print_n_times(n, string):\n",
    "    for i in range(n):\n",
    "        print(string) # sideeffect"
   ]
  },
  {
   "cell_type": "code",
   "execution_count": 10,
   "id": "529a99b5-43ea-49ec-b6cb-eb6089e3a1bc",
   "metadata": {},
   "outputs": [
    {
     "name": "stdout",
     "output_type": "stream",
     "text": [
      "ramin\n",
      "ramin\n",
      "ramin\n",
      "ramin\n"
     ]
    }
   ],
   "source": [
    "print_n_times(4, \"ramin\")"
   ]
  },
  {
   "cell_type": "code",
   "execution_count": 11,
   "id": "3a9a1080-9969-40b5-9a75-56a2e7d71cf6",
   "metadata": {},
   "outputs": [
    {
     "name": "stdout",
     "output_type": "stream",
     "text": [
      "ramin\n",
      "ramin\n",
      "ramin\n",
      "ramin\n",
      "ramin\n",
      "ramin\n",
      "ramin\n",
      "ramin\n",
      "ramin\n",
      "ramin\n"
     ]
    }
   ],
   "source": [
    "print_n_times(10, \"ramin\")"
   ]
  },
  {
   "cell_type": "code",
   "execution_count": 12,
   "id": "cb328006-c51b-453f-88e3-305bb373230d",
   "metadata": {},
   "outputs": [
    {
     "name": "stdout",
     "output_type": "stream",
     "text": [
      "pc\n",
      "pc\n",
      "pc\n",
      "pc\n",
      "pc\n",
      "pc\n",
      "pc\n",
      "pc\n",
      "pc\n",
      "pc\n",
      "pc\n",
      "pc\n",
      "pc\n",
      "pc\n",
      "pc\n",
      "pc\n",
      "pc\n",
      "pc\n",
      "pc\n",
      "pc\n"
     ]
    }
   ],
   "source": [
    "print_n_times(20, \"pc\")"
   ]
  },
  {
   "cell_type": "code",
   "execution_count": 13,
   "id": "25e2acc4-2223-45c9-8c47-0ba8d201c19e",
   "metadata": {},
   "outputs": [],
   "source": [
    "def print_n_times(n, string):\n",
    "    for i in range(1, n+1):\n",
    "        if i == 1:\n",
    "            print(f\"the first {string}\") # side_effect\n",
    "        elif i == 2:\n",
    "            print(f\"the second {string}\")\n",
    "        elif i == 3:\n",
    "            print(f\"the third {string}\")\n",
    "        else:\n",
    "            print(f\"the {i}'th {string}\")"
   ]
  },
  {
   "cell_type": "code",
   "execution_count": 14,
   "id": "bd9d4bb9-5b94-4dd3-b614-02bd8bff273a",
   "metadata": {},
   "outputs": [
    {
     "name": "stdout",
     "output_type": "stream",
     "text": [
      "the first ramin\n",
      "the second ramin\n",
      "the third ramin\n"
     ]
    }
   ],
   "source": [
    "print_n_times(3, \"ramin\")"
   ]
  },
  {
   "cell_type": "code",
   "execution_count": 15,
   "id": "9e278208-b90e-4b1e-b716-82862fab9cbc",
   "metadata": {},
   "outputs": [
    {
     "name": "stdout",
     "output_type": "stream",
     "text": [
      "the first ramin\n",
      "the second ramin\n",
      "the third ramin\n",
      "the 4'th ramin\n",
      "the 5'th ramin\n"
     ]
    }
   ],
   "source": [
    "print_n_times(5, \"ramin\")"
   ]
  },
  {
   "attachments": {
    "450d59cf-a0ec-4ef2-8361-30890d02f96e.jpg": {
     "image/jpeg": "[encoded data removed]"
    }
   },
   "cell_type": "markdown",
   "id": "8034541c-01b8-440f-9270-991040ce8f5c",
   "metadata": {},
   "source": [
    "![bug.jpg](attachment:450d59cf-a0ec-4ef2-8361-30890d02f96e.jpg)"
   ]
  },
  {
   "cell_type": "markdown",
   "id": "beb6dd84-3e50-4692-b808-c38b5a733d1b",
   "metadata": {},
   "source": [
    "## boolean"
   ]
  },
  {
   "cell_type": "markdown",
   "id": "d29e7ec0-8309-4aa7-9e26-08c0bb1e29b2",
   "metadata": {},
   "source": [
    "boolean is just another type like int and str, but it can only be False or True."
   ]
  },
  {
   "cell_type": "code",
   "execution_count": 16,
   "id": "2f61273c-01e2-48eb-9e85-b93d3e7a1561",
   "metadata": {},
   "outputs": [],
   "source": [
    "x = 2 > 3"
   ]
  },
  {
   "cell_type": "code",
   "execution_count": 17,
   "id": "49feacc0-49af-4ddd-a92f-4d74271fba88",
   "metadata": {},
   "outputs": [
    {
     "data": {
      "text/plain": [
       "False"
      ]
     },
     "execution_count": 17,
     "metadata": {},
     "output_type": "execute_result"
    }
   ],
   "source": [
    "x"
   ]
  },
  {
   "cell_type": "code",
   "execution_count": 18,
   "id": "843af4a4-d903-488a-81c5-4138951515a4",
   "metadata": {},
   "outputs": [
    {
     "data": {
      "text/plain": [
       "bool"
      ]
     },
     "execution_count": 18,
     "metadata": {},
     "output_type": "execute_result"
    }
   ],
   "source": [
    "type(x)"
   ]
  },
  {
   "cell_type": "code",
   "execution_count": 19,
   "id": "f8beb828-3ae5-45ac-a073-0ba18e0ff432",
   "metadata": {},
   "outputs": [
    {
     "data": {
      "text/plain": [
       "True"
      ]
     },
     "execution_count": 19,
     "metadata": {},
     "output_type": "execute_result"
    }
   ],
   "source": [
    "4 == 4"
   ]
  },
  {
   "cell_type": "code",
   "execution_count": 20,
   "id": "73393de4-3c68-433b-8a78-6e82d31937dc",
   "metadata": {},
   "outputs": [
    {
     "data": {
      "text/plain": [
       "False"
      ]
     },
     "execution_count": 20,
     "metadata": {},
     "output_type": "execute_result"
    }
   ],
   "source": [
    "4 == 'ramin'"
   ]
  },
  {
   "cell_type": "code",
   "execution_count": 21,
   "id": "a9f2b7ba-4d6d-4686-9649-67aaca2216f4",
   "metadata": {},
   "outputs": [
    {
     "data": {
      "text/plain": [
       "False"
      ]
     },
     "execution_count": 21,
     "metadata": {},
     "output_type": "execute_result"
    }
   ],
   "source": [
    "\"ramin\" == \"Ramin\""
   ]
  },
  {
   "cell_type": "code",
   "execution_count": 22,
   "id": "d428dfa7-016a-4ce6-a36a-552f93cf42a9",
   "metadata": {},
   "outputs": [
    {
     "data": {
      "text/plain": [
       "True"
      ]
     },
     "execution_count": 22,
     "metadata": {},
     "output_type": "execute_result"
    }
   ],
   "source": [
    "2 >= 2 "
   ]
  },
  {
   "cell_type": "code",
   "execution_count": 23,
   "id": "bd497c1b-b679-4eae-ac5d-855dd742d19e",
   "metadata": {},
   "outputs": [
    {
     "data": {
      "text/plain": [
       "True"
      ]
     },
     "execution_count": 23,
     "metadata": {},
     "output_type": "execute_result"
    }
   ],
   "source": [
    "2 <= 2"
   ]
  },
  {
   "cell_type": "code",
   "execution_count": 24,
   "id": "339c7975-2171-4806-abf7-c551c831a05b",
   "metadata": {},
   "outputs": [
    {
     "data": {
      "text/plain": [
       "True"
      ]
     },
     "execution_count": 24,
     "metadata": {},
     "output_type": "execute_result"
    }
   ],
   "source": [
    "1 != 2"
   ]
  },
  {
   "cell_type": "markdown",
   "id": "b265bc17-f2cb-497e-94b2-85ecb14846bb",
   "metadata": {},
   "source": [
    "## Branching"
   ]
  },
  {
   "cell_type": "markdown",
   "id": "04879cee-1e69-48a4-9edf-f31fd9802a36",
   "metadata": {},
   "source": [
    "Remember the `abs` function, we can write it ourselves"
   ]
  },
  {
   "cell_type": "code",
   "execution_count": 8,
   "id": "ceccf34f-4a73-4565-b68d-d01c2ca11c25",
   "metadata": {},
   "outputs": [],
   "source": [
    "def our_abs(n):\n",
    "    # Check for being a number, if the type(n) is not a number it should not be float AND int, both conditions should be TRUE at the same time.\n",
    "    if type(n) != int and type(n) != float:\n",
    "        return \"this is not a valid number\"\n",
    "    # if the number is positive (n>0) return itself.\n",
    "    if n>0:\n",
    "        return n\n",
    "    # if the number is negative (n<0), return -n.\n",
    "    elif n<0:\n",
    "        return -n\n",
    "    elif n == 0:\n",
    "        return 0\n",
    "    else:\n",
    "        return \"This is not a valid number\""
   ]
  },
  {
   "cell_type": "markdown",
   "id": "6bedc2bc-7f9b-40e1-9f81-f5c02af5754c",
   "metadata": {},
   "source": [
    "### AND, OR, NOT"
   ]
  },
  {
   "cell_type": "code",
   "execution_count": 2,
   "id": "6f15b41e-8dd7-44c0-b133-a1918c07ef3b",
   "metadata": {},
   "outputs": [
    {
     "data": {
      "text/plain": [
       "True"
      ]
     },
     "execution_count": 2,
     "metadata": {},
     "output_type": "execute_result"
    }
   ],
   "source": [
    "2>1 and 3>1"
   ]
  },
  {
   "cell_type": "code",
   "execution_count": 3,
   "id": "394bd967-228f-4529-a543-02dbeaa6d1ac",
   "metadata": {},
   "outputs": [
    {
     "data": {
      "text/plain": [
       "False"
      ]
     },
     "execution_count": 3,
     "metadata": {},
     "output_type": "execute_result"
    }
   ],
   "source": [
    "2>1 and 2>3 "
   ]
  },
  {
   "cell_type": "code",
   "execution_count": 4,
   "id": "84594ec3-4be7-4dc0-bcaf-770f6388bcd7",
   "metadata": {},
   "outputs": [
    {
     "data": {
      "text/plain": [
       "True"
      ]
     },
     "execution_count": 4,
     "metadata": {},
     "output_type": "execute_result"
    }
   ],
   "source": [
    "2>1 or 2>3"
   ]
  },
  {
   "cell_type": "code",
   "execution_count": 6,
   "id": "c34ceb2d-cf25-4936-8be9-6e93c236f2a4",
   "metadata": {},
   "outputs": [
    {
     "data": {
      "text/plain": [
       "True"
      ]
     },
     "execution_count": 6,
     "metadata": {},
     "output_type": "execute_result"
    }
   ],
   "source": [
    "not 2>3"
   ]
  },
  {
   "cell_type": "code",
   "execution_count": 7,
   "id": "32c4f0a0-8edf-436f-97c7-89fe9eaa400f",
   "metadata": {},
   "outputs": [
    {
     "data": {
      "text/plain": [
       "True"
      ]
     },
     "execution_count": 7,
     "metadata": {},
     "output_type": "execute_result"
    }
   ],
   "source": [
    "2>1 and not 2>3"
   ]
  },
  {
   "cell_type": "code",
   "execution_count": 87,
   "id": "d20a2e1f-984b-4abd-b76a-ba132899d5ec",
   "metadata": {},
   "outputs": [
    {
     "data": {
      "text/plain": [
       "3"
      ]
     },
     "execution_count": 87,
     "metadata": {},
     "output_type": "execute_result"
    }
   ],
   "source": [
    "our_abs(3)"
   ]
  },
  {
   "cell_type": "code",
   "execution_count": 66,
   "id": "91c69d43-5e80-4a5d-8efc-0b7d5013b0a8",
   "metadata": {},
   "outputs": [
    {
     "name": "stdout",
     "output_type": "stream",
     "text": [
      "<class 'int'>\n"
     ]
    },
    {
     "data": {
      "text/plain": [
       "5"
      ]
     },
     "execution_count": 66,
     "metadata": {},
     "output_type": "execute_result"
    }
   ],
   "source": [
    "our_abs(5)"
   ]
  },
  {
   "cell_type": "markdown",
   "id": "342b61f0-470a-4dee-bc85-748db8cd115e",
   "metadata": {},
   "source": [
    "what if user enters 0?"
   ]
  },
  {
   "cell_type": "code",
   "execution_count": 67,
   "id": "c96928cd-0de7-4f12-930d-3a3e9d55bff6",
   "metadata": {},
   "outputs": [
    {
     "name": "stdout",
     "output_type": "stream",
     "text": [
      "<class 'int'>\n"
     ]
    },
    {
     "data": {
      "text/plain": [
       "0"
      ]
     },
     "execution_count": 67,
     "metadata": {},
     "output_type": "execute_result"
    }
   ],
   "source": [
    "our_abs(0)"
   ]
  },
  {
   "cell_type": "markdown",
   "id": "5e04e8e7-4365-40e1-9bc2-3d99ad2c1828",
   "metadata": {},
   "source": [
    "what if user enters a non number value?"
   ]
  },
  {
   "cell_type": "code",
   "execution_count": 68,
   "id": "de1f0ecc-3e18-4232-b71b-aa93413c3e33",
   "metadata": {},
   "outputs": [
    {
     "name": "stdout",
     "output_type": "stream",
     "text": [
      "<class 'str'>\n"
     ]
    },
    {
     "data": {
      "text/plain": [
       "'this is not a valid number'"
      ]
     },
     "execution_count": 68,
     "metadata": {},
     "output_type": "execute_result"
    }
   ],
   "source": [
    "our_abs(\"ramin\")"
   ]
  },
  {
   "cell_type": "code",
   "execution_count": 17,
   "id": "07b13e68-72b1-4879-a4e0-666f22211a4c",
   "metadata": {},
   "outputs": [],
   "source": [
    "# else"
   ]
  },
  {
   "cell_type": "code",
   "execution_count": 20,
   "id": "0d9accef-205e-4a13-9244-ebfbea1ffc89",
   "metadata": {},
   "outputs": [],
   "source": [
    "# fix the problem with the print_n_times func"
   ]
  },
  {
   "cell_type": "markdown",
   "id": "c324455f-7339-4d26-852a-2ff48ec41269",
   "metadata": {},
   "source": [
    "### problems"
   ]
  },
  {
   "cell_type": "code",
   "execution_count": 101,
   "id": "0b4560ed-55a1-4ea0-bb24-35b4f73e9992",
   "metadata": {},
   "outputs": [],
   "source": [
    "# write function that accepts a number and prints all the numbers from 0 to it.\n",
    "\n",
    "\n",
    "def print_numbers(n):\n",
    "    for i in range(n+1):\n",
    "        print(i)"
   ]
  },
  {
   "cell_type": "code",
   "execution_count": 102,
   "id": "ee2b9112-5dac-4e39-989d-61e36e12a485",
   "metadata": {},
   "outputs": [
    {
     "name": "stdout",
     "output_type": "stream",
     "text": [
      "0\n",
      "1\n",
      "2\n",
      "3\n",
      "4\n",
      "5\n"
     ]
    }
   ],
   "source": [
    "print_numbers(5)"
   ]
  },
  {
   "cell_type": "code",
   "execution_count": 103,
   "id": "db1d3fe1-f784-4e64-a716-e707d79134dd",
   "metadata": {},
   "outputs": [],
   "source": [
    "# write a function that accepts a number and prints all the even numbers in between the 0 and the number itself.\n",
    "\n",
    "def print_even(n):\n",
    "    for i in range(n+1):\n",
    "        if i%2 == 0:\n",
    "            print(i)"
   ]
  },
  {
   "cell_type": "code",
   "execution_count": 104,
   "id": "17cdcc89-d764-4b4d-81ca-c40b44a476d1",
   "metadata": {},
   "outputs": [
    {
     "name": "stdout",
     "output_type": "stream",
     "text": [
      "0\n",
      "2\n",
      "4\n",
      "6\n",
      "8\n",
      "10\n"
     ]
    }
   ],
   "source": [
    "print_even(10)"
   ]
  },
  {
   "cell_type": "code",
   "execution_count": 29,
   "id": "8f846f85-5c62-4522-b41d-51ff4040f451",
   "metadata": {},
   "outputs": [],
   "source": [
    "# write the logic here"
   ]
  },
  {
   "cell_type": "code",
   "execution_count": 81,
   "id": "5edd96e0-13ee-426f-92ba-97d19d003fe0",
   "metadata": {},
   "outputs": [],
   "source": [
    "# check if a number is prime or not, remeber the modular % operator\n",
    "\n",
    "def is_prime(n):\n",
    "    for i in range(2, n):\n",
    "        if n%i == 0:\n",
    "            return False\n",
    "    return True"
   ]
  },
  {
   "cell_type": "code",
   "execution_count": 106,
   "id": "8f73bafe-c347-4d51-bcf0-75863210cdbb",
   "metadata": {},
   "outputs": [
    {
     "data": {
      "text/plain": [
       "True"
      ]
     },
     "execution_count": 106,
     "metadata": {},
     "output_type": "execute_result"
    }
   ],
   "source": [
    "is_prime(2)"
   ]
  },
  {
   "cell_type": "code",
   "execution_count": 107,
   "id": "1cf51155-59c3-4c7d-871e-40aaa2c12b8d",
   "metadata": {},
   "outputs": [
    {
     "data": {
      "text/plain": [
       "False"
      ]
     },
     "execution_count": 107,
     "metadata": {},
     "output_type": "execute_result"
    }
   ],
   "source": [
    "is_prime(9)"
   ]
  },
  {
   "cell_type": "code",
   "execution_count": 113,
   "id": "63cb38be-67f4-457a-ba00-9209e692eb22",
   "metadata": {},
   "outputs": [],
   "source": [
    "# write a function that accepts a number and returns the sum of all the numbers between 0 and the number itseslf\n",
    "\n",
    "def simple_sum(n):\n",
    "    temp_sum = 0\n",
    "    for i in range(n+1):\n",
    "        temp_sum += i\n",
    "    return temp_sum"
   ]
  },
  {
   "cell_type": "code",
   "execution_count": 114,
   "id": "ca8913cb-f205-41f9-afea-d6c28e0e0189",
   "metadata": {},
   "outputs": [
    {
     "data": {
      "text/plain": [
       "55"
      ]
     },
     "execution_count": 114,
     "metadata": {},
     "output_type": "execute_result"
    }
   ],
   "source": [
    "simple_sum(10)"
   ]
  },
  {
   "cell_type": "markdown",
   "id": "1c7990a6-8bab-477c-9734-9058b2505b4f",
   "metadata": {},
   "source": [
    "## O(n)"
   ]
  },
  {
   "attachments": {
    "2670e7a3-a5ee-4e0b-bf1b-2d098bf88329.jpg": {
     "image/jpeg": "[encoded data removed]"
    }
   },
   "cell_type": "markdown",
   "id": "30ff7d2c-2b1a-4e15-b53d-4f8c650fb38a",
   "metadata": {},
   "source": [
    "![images.jpg](attachment:2670e7a3-a5ee-4e0b-bf1b-2d098bf88329.jpg)"
   ]
  },
  {
   "cell_type": "code",
   "execution_count": 63,
   "id": "962d4645-31b9-4cd2-ba45-d16cbe30109b",
   "metadata": {},
   "outputs": [],
   "source": [
    "# (n/2)(a1 + an)"
   ]
  },
  {
   "cell_type": "code",
   "execution_count": 118,
   "id": "c51f6da8-6117-447b-b6f9-2a7d365bf351",
   "metadata": {},
   "outputs": [],
   "source": [
    "def gauss_add(n):\n",
    "    return int((n/2) * (1 + n))"
   ]
  },
  {
   "cell_type": "code",
   "execution_count": 119,
   "id": "9a3c3a79-b9d3-4f19-b881-41a6ffa3d1c5",
   "metadata": {},
   "outputs": [
    {
     "data": {
      "text/plain": [
       "55"
      ]
     },
     "execution_count": 119,
     "metadata": {},
     "output_type": "execute_result"
    }
   ],
   "source": [
    "gauss_add(10)"
   ]
  },
  {
   "cell_type": "code",
   "execution_count": 115,
   "id": "d1968b4a-ebdb-4e83-ac40-625f395fcbe3",
   "metadata": {},
   "outputs": [
    {
     "data": {
      "text/plain": [
       "10.0"
      ]
     },
     "execution_count": 115,
     "metadata": {},
     "output_type": "execute_result"
    }
   ],
   "source": [
    "gauss_add(4)"
   ]
  },
  {
   "cell_type": "code",
   "execution_count": 117,
   "id": "5cd5e0a8-a26d-4153-b12d-c87fd013e325",
   "metadata": {},
   "outputs": [
    {
     "data": {
      "text/plain": [
       "10"
      ]
     },
     "execution_count": 117,
     "metadata": {},
     "output_type": "execute_result"
    }
   ],
   "source": [
    "simple_sum(4)"
   ]
  },
  {
   "cell_type": "code",
   "execution_count": 120,
   "id": "ccdf7790-912f-4328-b38a-de98699797f9",
   "metadata": {},
   "outputs": [
    {
     "data": {
      "text/plain": [
       "5000050000"
      ]
     },
     "execution_count": 120,
     "metadata": {},
     "output_type": "execute_result"
    }
   ],
   "source": [
    "simple_sum(100000)"
   ]
  },
  {
   "cell_type": "code",
   "execution_count": 121,
   "id": "ed0b2893-dc70-4b70-a765-24cd342cbb87",
   "metadata": {},
   "outputs": [
    {
     "name": "stdout",
     "output_type": "stream",
     "text": [
      "7.23 ms ± 844 μs per loop (mean ± std. dev. of 7 runs, 100 loops each)\n"
     ]
    }
   ],
   "source": [
    "%%timeit\n",
    "\n",
    "simple_sum(100000)"
   ]
  },
  {
   "cell_type": "code",
   "execution_count": 122,
   "id": "000bd49d-c97a-47ea-8720-a22f91f83c2c",
   "metadata": {},
   "outputs": [
    {
     "data": {
      "text/plain": [
       "5000050000"
      ]
     },
     "execution_count": 122,
     "metadata": {},
     "output_type": "execute_result"
    }
   ],
   "source": [
    "gauss_add(100000)"
   ]
  },
  {
   "cell_type": "code",
   "execution_count": 123,
   "id": "3fb8ff30-8bd5-48d7-88a4-9718bdeeb676",
   "metadata": {},
   "outputs": [
    {
     "name": "stdout",
     "output_type": "stream",
     "text": [
      "298 ns ± 33.7 ns per loop (mean ± std. dev. of 7 runs, 1,000,000 loops each)\n"
     ]
    }
   ],
   "source": [
    "%%timeit\n",
    "\n",
    "gauss_add(100000)"
   ]
  },
  {
   "cell_type": "markdown",
   "id": "28923b7f-0d04-4277-bdb3-b18cd142404d",
   "metadata": {},
   "source": [
    "## Lists"
   ]
  },
  {
   "cell_type": "code",
   "execution_count": 25,
   "id": "4c1f3781-13d0-463b-841f-f710a8d24de9",
   "metadata": {},
   "outputs": [],
   "source": [
    "new_list = [1,2,3,4]"
   ]
  },
  {
   "cell_type": "code",
   "execution_count": 26,
   "id": "1448a5c5-1b37-4b1a-bfdf-09b3771ea831",
   "metadata": {},
   "outputs": [
    {
     "name": "stdout",
     "output_type": "stream",
     "text": [
      "1\n",
      "2\n",
      "3\n",
      "4\n"
     ]
    }
   ],
   "source": [
    "for i in new_list:\n",
    "    print(i)"
   ]
  },
  {
   "cell_type": "code",
   "execution_count": 27,
   "id": "708e27e5-f463-46c4-9325-002a0bfd203b",
   "metadata": {},
   "outputs": [
    {
     "data": {
      "text/plain": [
       "list"
      ]
     },
     "execution_count": 27,
     "metadata": {},
     "output_type": "execute_result"
    }
   ],
   "source": [
    "type(new_list)"
   ]
  },
  {
   "cell_type": "code",
   "execution_count": 28,
   "id": "28d78dc3-a484-440c-960b-3791f4c51197",
   "metadata": {},
   "outputs": [
    {
     "data": {
      "text/plain": [
       "4"
      ]
     },
     "execution_count": 28,
     "metadata": {},
     "output_type": "execute_result"
    }
   ],
   "source": [
    "new_list.pop()"
   ]
  },
  {
   "cell_type": "code",
   "execution_count": 29,
   "id": "b1ac4481-7d28-4aa4-99a8-42ed196ca363",
   "metadata": {},
   "outputs": [
    {
     "data": {
      "text/plain": [
       "[1, 2, 3]"
      ]
     },
     "execution_count": 29,
     "metadata": {},
     "output_type": "execute_result"
    }
   ],
   "source": [
    "new_list"
   ]
  },
  {
   "cell_type": "code",
   "execution_count": 30,
   "id": "c7ada92a-1523-43a2-8642-449668b94c67",
   "metadata": {},
   "outputs": [],
   "source": [
    "new_list.append(4)"
   ]
  },
  {
   "cell_type": "code",
   "execution_count": 31,
   "id": "20c8d580-2443-42b3-a25b-cc944c00365d",
   "metadata": {},
   "outputs": [
    {
     "data": {
      "text/plain": [
       "[1, 2, 3, 4]"
      ]
     },
     "execution_count": 31,
     "metadata": {},
     "output_type": "execute_result"
    }
   ],
   "source": [
    "new_list"
   ]
  },
  {
   "cell_type": "code",
   "execution_count": 32,
   "id": "686279ca-1011-4bee-adc5-70cf89bb0c8c",
   "metadata": {},
   "outputs": [
    {
     "data": {
      "text/plain": [
       "4"
      ]
     },
     "execution_count": 32,
     "metadata": {},
     "output_type": "execute_result"
    }
   ],
   "source": [
    "len(new_list)"
   ]
  },
  {
   "cell_type": "code",
   "execution_count": 57,
   "id": "1f845024-336f-4493-bb28-f42f2392c365",
   "metadata": {},
   "outputs": [
    {
     "name": "stdout",
     "output_type": "stream",
     "text": [
      "10\n",
      "2\n",
      "3\n",
      "4\n"
     ]
    }
   ],
   "source": [
    "for i in range(len(new_list)):\n",
    "    print(new_list[i])"
   ]
  },
  {
   "cell_type": "code",
   "execution_count": 28,
   "id": "c0d1c3dd-888b-40f7-9a0e-e9272ff2faf0",
   "metadata": {},
   "outputs": [
    {
     "data": {
      "text/plain": [
       "[1, 2, 3, 4]"
      ]
     },
     "execution_count": 28,
     "metadata": {},
     "output_type": "execute_result"
    }
   ],
   "source": [
    "new_list"
   ]
  },
  {
   "cell_type": "code",
   "execution_count": 33,
   "id": "86f56210-23e8-4398-8b0f-12420b3d01bb",
   "metadata": {},
   "outputs": [
    {
     "data": {
      "text/plain": [
       "1"
      ]
     },
     "execution_count": 33,
     "metadata": {},
     "output_type": "execute_result"
    }
   ],
   "source": [
    "new_list[0]"
   ]
  },
  {
   "cell_type": "code",
   "execution_count": 34,
   "id": "d6d42a99-776e-44b8-ab3a-1699cab0d143",
   "metadata": {},
   "outputs": [
    {
     "data": {
      "text/plain": [
       "False"
      ]
     },
     "execution_count": 34,
     "metadata": {},
     "output_type": "execute_result"
    }
   ],
   "source": [
    "new_list[0] == 10"
   ]
  },
  {
   "cell_type": "code",
   "execution_count": 35,
   "id": "d4d5cc95-04e1-4099-b6b4-85dc122a8a84",
   "metadata": {},
   "outputs": [
    {
     "data": {
      "text/plain": [
       "1"
      ]
     },
     "execution_count": 35,
     "metadata": {},
     "output_type": "execute_result"
    }
   ],
   "source": [
    "new_list[0]"
   ]
  },
  {
   "cell_type": "code",
   "execution_count": 36,
   "id": "9efb05d6-7324-4643-85e2-70d61ba14291",
   "metadata": {},
   "outputs": [],
   "source": [
    "new_list[0] = 10"
   ]
  },
  {
   "cell_type": "code",
   "execution_count": 37,
   "id": "a68016e2-a014-4e74-9e4e-2b6983595790",
   "metadata": {},
   "outputs": [
    {
     "data": {
      "text/plain": [
       "[10, 2, 3, 4]"
      ]
     },
     "execution_count": 37,
     "metadata": {},
     "output_type": "execute_result"
    }
   ],
   "source": [
    "new_list"
   ]
  },
  {
   "cell_type": "markdown",
   "id": "156e8720-685b-4715-9c9c-2d9b96a4384b",
   "metadata": {},
   "source": [
    "slicing"
   ]
  },
  {
   "cell_type": "code",
   "execution_count": 38,
   "id": "1f9705b7-e930-4565-b2ac-c692230aee0f",
   "metadata": {},
   "outputs": [
    {
     "data": {
      "text/plain": [
       "[10, 2, 3, 4]"
      ]
     },
     "execution_count": 38,
     "metadata": {},
     "output_type": "execute_result"
    }
   ],
   "source": [
    "new_list"
   ]
  },
  {
   "cell_type": "code",
   "execution_count": 39,
   "id": "0793989d-3e65-4d36-a2bd-3947dbee0043",
   "metadata": {},
   "outputs": [
    {
     "data": {
      "text/plain": [
       "[10, 2]"
      ]
     },
     "execution_count": 39,
     "metadata": {},
     "output_type": "execute_result"
    }
   ],
   "source": [
    "new_list[0:2]"
   ]
  },
  {
   "cell_type": "code",
   "execution_count": 35,
   "id": "81a73d54-97a1-45c4-8520-bfc71666f5c9",
   "metadata": {},
   "outputs": [
    {
     "data": {
      "text/plain": [
       "10"
      ]
     },
     "execution_count": 35,
     "metadata": {},
     "output_type": "execute_result"
    }
   ],
   "source": [
    "new_list[0]"
   ]
  },
  {
   "cell_type": "code",
   "execution_count": 36,
   "id": "db8237a1-a1f7-4d7f-b15c-6f444a5318e5",
   "metadata": {},
   "outputs": [
    {
     "data": {
      "text/plain": [
       "2"
      ]
     },
     "execution_count": 36,
     "metadata": {},
     "output_type": "execute_result"
    }
   ],
   "source": [
    "new_list[1]"
   ]
  },
  {
   "cell_type": "code",
   "execution_count": 37,
   "id": "0aee5220-7521-4022-b935-4353b72acbc4",
   "metadata": {},
   "outputs": [
    {
     "data": {
      "text/plain": [
       "3"
      ]
     },
     "execution_count": 37,
     "metadata": {},
     "output_type": "execute_result"
    }
   ],
   "source": [
    "new_list[2]"
   ]
  },
  {
   "cell_type": "code",
   "execution_count": 40,
   "id": "6c55d89e-995a-4297-8626-87f7a6ad2402",
   "metadata": {},
   "outputs": [
    {
     "data": {
      "text/plain": [
       "[10, 2, 3]"
      ]
     },
     "execution_count": 40,
     "metadata": {},
     "output_type": "execute_result"
    }
   ],
   "source": [
    "new_list[0:3]"
   ]
  },
  {
   "cell_type": "code",
   "execution_count": 42,
   "id": "5f15cf60-8df2-4e1a-9218-c7df2c7b7158",
   "metadata": {},
   "outputs": [
    {
     "data": {
      "text/plain": [
       "[10, 2, 3, 4]"
      ]
     },
     "execution_count": 42,
     "metadata": {},
     "output_type": "execute_result"
    }
   ],
   "source": [
    "new_list"
   ]
  },
  {
   "cell_type": "code",
   "execution_count": 43,
   "id": "f703d85e-f129-4aee-b8c6-e662bb0873b2",
   "metadata": {},
   "outputs": [
    {
     "data": {
      "text/plain": [
       "[4, 3, 2, 10]"
      ]
     },
     "execution_count": 43,
     "metadata": {},
     "output_type": "execute_result"
    }
   ],
   "source": [
    "new_list[::-1]"
   ]
  },
  {
   "cell_type": "code",
   "execution_count": 44,
   "id": "d830b5ac-ae0a-4024-82c3-a3b0d74d40c9",
   "metadata": {},
   "outputs": [],
   "source": [
    "string = \"Ramin\""
   ]
  },
  {
   "cell_type": "code",
   "execution_count": 45,
   "id": "a69c6299-7229-4c5a-bf22-e097ec286de5",
   "metadata": {},
   "outputs": [
    {
     "data": {
      "text/plain": [
       "'Ram'"
      ]
     },
     "execution_count": 45,
     "metadata": {},
     "output_type": "execute_result"
    }
   ],
   "source": [
    "string[0:3]"
   ]
  },
  {
   "cell_type": "code",
   "execution_count": 47,
   "id": "95f7f350-61c8-4804-9a08-de68ea2c9319",
   "metadata": {},
   "outputs": [
    {
     "ename": "TypeError",
     "evalue": "'str' object does not support item assignment",
     "output_type": "error",
     "traceback": [
      "\u001b[0;31m---------------------------------------------------------------------------\u001b[0m",
      "\u001b[0;31mTypeError\u001b[0m                                 Traceback (most recent call last)",
      "Cell \u001b[0;32mIn[47], line 1\u001b[0m\n\u001b[0;32m----> 1\u001b[0m \u001b[43mstring\u001b[49m\u001b[43m[\u001b[49m\u001b[38;5;241;43m0\u001b[39;49m\u001b[43m]\u001b[49m \u001b[38;5;241m=\u001b[39m \u001b[38;5;124m'\u001b[39m\u001b[38;5;124mU\u001b[39m\u001b[38;5;124m'\u001b[39m\n",
      "\u001b[0;31mTypeError\u001b[0m: 'str' object does not support item assignment"
     ]
    }
   ],
   "source": [
    "string[0] = 'U'"
   ]
  },
  {
   "cell_type": "code",
   "execution_count": 48,
   "id": "3c3aa013-c6a5-4cf1-a586-6a2c0e5a80ba",
   "metadata": {},
   "outputs": [
    {
     "data": {
      "text/plain": [
       "'in'"
      ]
     },
     "execution_count": 48,
     "metadata": {},
     "output_type": "execute_result"
    }
   ],
   "source": [
    "string[3:]"
   ]
  },
  {
   "cell_type": "code",
   "execution_count": 49,
   "id": "78aa3cc9-02e7-4272-bb1a-ca65f48d8014",
   "metadata": {},
   "outputs": [],
   "source": [
    "new_string = \"Mob\" + string[3:]"
   ]
  },
  {
   "cell_type": "code",
   "execution_count": 50,
   "id": "33370e1c-9e98-451b-ad40-fb53bb24f565",
   "metadata": {},
   "outputs": [
    {
     "data": {
      "text/plain": [
       "'Mobin'"
      ]
     },
     "execution_count": 50,
     "metadata": {},
     "output_type": "execute_result"
    }
   ],
   "source": [
    "new_string"
   ]
  },
  {
   "cell_type": "markdown",
   "id": "a456c76d-565f-4524-9210-9f1b50ca8b80",
   "metadata": {},
   "source": [
    "## Dictionary"
   ]
  },
  {
   "cell_type": "markdown",
   "id": "ae8c475d-4f7c-4865-85ef-a720872c09c1",
   "metadata": {},
   "source": [
    "key-value pairs"
   ]
  },
  {
   "cell_type": "code",
   "execution_count": 51,
   "id": "ede08987-2ee2-4888-a7e5-6f64b9b3c57d",
   "metadata": {},
   "outputs": [],
   "source": [
    "my_dict = {\"name\": \"ramin\", \"last_name\": \"rafiee\", \"age\":23}"
   ]
  },
  {
   "cell_type": "code",
   "execution_count": 52,
   "id": "d6ba8edb-136f-4f84-a981-842fcf862550",
   "metadata": {},
   "outputs": [
    {
     "data": {
      "text/plain": [
       "'ramin'"
      ]
     },
     "execution_count": 52,
     "metadata": {},
     "output_type": "execute_result"
    }
   ],
   "source": [
    "my_dict[\"name\"]"
   ]
  },
  {
   "cell_type": "code",
   "execution_count": 53,
   "id": "4b7a6ae2-7603-49a7-a48f-1226c0bf4418",
   "metadata": {},
   "outputs": [
    {
     "data": {
      "text/plain": [
       "23"
      ]
     },
     "execution_count": 53,
     "metadata": {},
     "output_type": "execute_result"
    }
   ],
   "source": [
    "my_dict[\"age\"]"
   ]
  },
  {
   "cell_type": "code",
   "execution_count": 54,
   "id": "2f171bda-ee3c-4772-8dbf-32c6f472aa00",
   "metadata": {},
   "outputs": [
    {
     "data": {
      "text/plain": [
       "dict_keys(['name', 'last_name', 'age'])"
      ]
     },
     "execution_count": 54,
     "metadata": {},
     "output_type": "execute_result"
    }
   ],
   "source": [
    "my_dict.keys()"
   ]
  },
  {
   "cell_type": "code",
   "execution_count": 55,
   "id": "25d68bb4-2c68-4654-86a4-77427a5d6014",
   "metadata": {},
   "outputs": [
    {
     "data": {
      "text/plain": [
       "dict_values(['ramin', 'rafiee', 23])"
      ]
     },
     "execution_count": 55,
     "metadata": {},
     "output_type": "execute_result"
    }
   ],
   "source": [
    "my_dict.values()"
   ]
  },
  {
   "cell_type": "markdown",
   "id": "db7f99f5-f543-40a1-beac-ca22c74e28b3",
   "metadata": {},
   "source": [
    "one liner if and for"
   ]
  },
  {
   "cell_type": "code",
   "execution_count": 56,
   "id": "0fdcb420-12bb-456b-9378-d70e2a822f62",
   "metadata": {},
   "outputs": [
    {
     "data": {
      "text/plain": [
       "['A', 'A', 'A', 'A', 'A', 'A', 'A', 'A', 'A', 'A']"
      ]
     },
     "execution_count": 56,
     "metadata": {},
     "output_type": "execute_result"
    }
   ],
   "source": [
    "# list comprehensoin\n",
    "test_list_co = ['A' for i in range(10)]\n",
    "test_list_co"
   ]
  },
  {
   "cell_type": "code",
   "execution_count": 57,
   "id": "5de7f688-6c53-48c7-bfe7-fa9e391049a0",
   "metadata": {},
   "outputs": [
    {
     "data": {
      "text/plain": [
       "['A', 'B', 'A', 'B', 'A', 'B', 'A', 'B', 'A', 'B']"
      ]
     },
     "execution_count": 57,
     "metadata": {},
     "output_type": "execute_result"
    }
   ],
   "source": [
    "test_list_co = ['A' if i % 2 == 0 else 'B' for i in range(10)]\n",
    "test_list_co"
   ]
  },
  {
   "cell_type": "code",
   "execution_count": 58,
   "id": "2d2df9cb-1870-4f3e-a1f4-141b03a21e86",
   "metadata": {},
   "outputs": [
    {
     "data": {
      "text/plain": [
       "'A B A B A B A B A B'"
      ]
     },
     "execution_count": 58,
     "metadata": {},
     "output_type": "execute_result"
    }
   ],
   "source": [
    "\" \".join(test_list_co)"
   ]
  },
  {
   "cell_type": "markdown",
   "id": "cbd20f47-97dc-4817-a973-7c1e6bbbf957",
   "metadata": {},
   "source": [
    "### problems"
   ]
  },
  {
   "cell_type": "code",
   "execution_count": 59,
   "id": "3399eb3a-af28-4711-9ecd-075f3805d592",
   "metadata": {},
   "outputs": [],
   "source": [
    "## reverse a DNA seq\n",
    "\n",
    "dna = \"ACCTGC\"\n"
   ]
  },
  {
   "cell_type": "code",
   "execution_count": 63,
   "id": "206f1374-eb96-4660-b280-b5db92103ca3",
   "metadata": {},
   "outputs": [
    {
     "name": "stdout",
     "output_type": "stream",
     "text": [
      "0 = A\n",
      "1 = C\n",
      "2 = C\n",
      "3 = T\n",
      "4 = G\n",
      "5 = C\n"
     ]
    }
   ],
   "source": [
    "for idx, nuc in enumerate(dna):\n",
    "    print(f\"{idx} = {nuc}\")"
   ]
  },
  {
   "cell_type": "code",
   "execution_count": 74,
   "id": "1cf3fa02-aa43-4f1c-88a9-b4c1cca367fd",
   "metadata": {},
   "outputs": [],
   "source": [
    "def reverse(dna):\n",
    "    rdna = [' ' for i in range(len(dna))]\n",
    "    for idx, nuc in enumerate(dna):\n",
    "        if nuc == 'A':\n",
    "            rdna[idx] = 'T'\n",
    "        elif nuc == 'T':\n",
    "            rdna[idx] = 'A'\n",
    "        elif nuc == 'C':\n",
    "            rdna[idx] = 'G'\n",
    "        elif nuc == 'G':\n",
    "            rdna[idx] = 'C'\n",
    "    rdna = rdna[::-1]\n",
    "    return \"\".join(rdna)"
   ]
  },
  {
   "cell_type": "code",
   "execution_count": 77,
   "id": "ec881153-e166-4eb7-829f-8e2aa0691fed",
   "metadata": {},
   "outputs": [],
   "source": [
    "x = \"ramin\""
   ]
  },
  {
   "cell_type": "code",
   "execution_count": 80,
   "id": "408d1150-84c4-46d6-87d7-adde0ab02aed",
   "metadata": {},
   "outputs": [
    {
     "data": {
      "text/plain": [
       "'nimar'"
      ]
     },
     "execution_count": 80,
     "metadata": {},
     "output_type": "execute_result"
    }
   ],
   "source": [
    "x[::-1]"
   ]
  },
  {
   "cell_type": "code",
   "execution_count": 75,
   "id": "87ff8217-ae4c-4130-bff4-c58f64902cab",
   "metadata": {},
   "outputs": [
    {
     "data": {
      "text/plain": [
       "'ACCTGC'"
      ]
     },
     "execution_count": 75,
     "metadata": {},
     "output_type": "execute_result"
    }
   ],
   "source": [
    "dna"
   ]
  },
  {
   "cell_type": "code",
   "execution_count": 76,
   "id": "2716c34a-67f5-45ec-9150-f0aa3bbd47be",
   "metadata": {},
   "outputs": [
    {
     "data": {
      "text/plain": [
       "'GCAGGT'"
      ]
     },
     "execution_count": 76,
     "metadata": {},
     "output_type": "execute_result"
    }
   ],
   "source": [
    "reverse(dna)"
   ]
  },
  {
   "cell_type": "code",
   "execution_count": 81,
   "id": "61cb5216-63db-479b-8bac-65b713e46b64",
   "metadata": {},
   "outputs": [],
   "source": [
    "# check if a number is prime or not, remeber the modular % operator\n",
    "\n",
    "def is_prime(n):\n",
    "    for i in range(2, n):\n",
    "        if n%i == 0:\n",
    "            return False\n",
    "    return True"
   ]
  },
  {
   "cell_type": "code",
   "execution_count": 85,
   "id": "49826ebe-01dc-4099-8daa-d8211e35a92e",
   "metadata": {},
   "outputs": [],
   "source": [
    "## define a function that accepts a list of numbers and returns the prime numbers in the list\n",
    "nums = [2,17,18,7, 5, 20, 100, 51]"
   ]
  },
  {
   "cell_type": "code",
   "execution_count": 86,
   "id": "20603efe-8e53-4f19-a12a-5efe0bb25d0b",
   "metadata": {},
   "outputs": [],
   "source": [
    "def return_prime(n_list):\n",
    "    temp_list = []\n",
    "    for i in n_list:\n",
    "        if is_prime(i):\n",
    "            temp_list.append(i)\n",
    "    return temp_list"
   ]
  },
  {
   "cell_type": "code",
   "execution_count": 87,
   "id": "9e944e0b-7234-4bb2-b6b0-4673b5a48202",
   "metadata": {},
   "outputs": [
    {
     "data": {
      "text/plain": [
       "[2, 17, 7, 5]"
      ]
     },
     "execution_count": 87,
     "metadata": {},
     "output_type": "execute_result"
    }
   ],
   "source": [
    "return_prime(nums)"
   ]
  },
  {
   "cell_type": "code",
   "execution_count": 92,
   "id": "ec7d8095-5524-4ec0-9e83-2e29edcfc3fb",
   "metadata": {},
   "outputs": [
    {
     "data": {
      "text/plain": [
       "'ramin'"
      ]
     },
     "execution_count": 92,
     "metadata": {},
     "output_type": "execute_result"
    }
   ],
   "source": [
    "\"RamIn\".upper().lower()"
   ]
  },
  {
   "cell_type": "code",
   "execution_count": 93,
   "id": "b435ab71-2214-4ce0-959e-e8bd64925434",
   "metadata": {},
   "outputs": [],
   "source": [
    "## define a function that accepts shape name, and its area parameters and calculates the area based on the shape\n",
    "\n",
    "def cal_area(shape, p_1, p_2=None):\n",
    "    if shape.lower() == \"circle\":\n",
    "        return p_1*p_1*3.14\n",
    "    elif shape.lower() == \"rectangle\" or shape.lower() == \"square\":\n",
    "        return p_1*p_2\n",
    "    elif shape.lower() == \"triangle\":\n",
    "        return (p_1*p_2)/2"
   ]
  },
  {
   "cell_type": "code",
   "execution_count": 94,
   "id": "67ddf696-a909-4e59-8f23-922cd48f6a19",
   "metadata": {},
   "outputs": [
    {
     "data": {
      "text/plain": [
       "78.5"
      ]
     },
     "execution_count": 94,
     "metadata": {},
     "output_type": "execute_result"
    }
   ],
   "source": [
    "cal_area(\"Circle\", 5)"
   ]
  },
  {
   "cell_type": "code",
   "execution_count": 95,
   "id": "a4a5ec22-e1d1-436e-b1b4-fa3c79caeb93",
   "metadata": {},
   "outputs": [
    {
     "data": {
      "text/plain": [
       "25.0"
      ]
     },
     "execution_count": 95,
     "metadata": {},
     "output_type": "execute_result"
    }
   ],
   "source": [
    "cal_area(\"Triangle\", 10, 5)"
   ]
  },
  {
   "cell_type": "code",
   "execution_count": 96,
   "id": "3d1ecd01-4b47-4be0-8445-560e13a0458c",
   "metadata": {},
   "outputs": [
    {
     "data": {
      "text/plain": [
       "25"
      ]
     },
     "execution_count": 96,
     "metadata": {},
     "output_type": "execute_result"
    }
   ],
   "source": [
    "cal_area(\"square\", 5, 5)"
   ]
  },
  {
   "cell_type": "code",
   "execution_count": 97,
   "id": "6ec3a5f0-b723-4b25-994a-5b2b75015043",
   "metadata": {},
   "outputs": [
    {
     "data": {
      "text/plain": [
       "12"
      ]
     },
     "execution_count": 97,
     "metadata": {},
     "output_type": "execute_result"
    }
   ],
   "source": [
    "cal_area(\"rectangle\", 3, 4)"
   ]
  },
  {
   "cell_type": "code",
   "execution_count": 109,
   "id": "4295e69a-8d79-4a64-b629-6fc4c5cffda1",
   "metadata": {},
   "outputs": [],
   "source": [
    "## Write a function called print_multiplication_table that takes\n",
    "## a number as parameter and uses a for loop to print the multiplication table (from 1 to 10) for that number.\n",
    "\n",
    "def print_multiplication_table(n):\n",
    "    for i in range(-10, 10, 2):\n",
    "        print(n*i)"
   ]
  },
  {
   "cell_type": "code",
   "execution_count": 110,
   "id": "c6e171e8-9aab-4739-a016-e5b04dbc27cb",
   "metadata": {},
   "outputs": [
    {
     "name": "stdout",
     "output_type": "stream",
     "text": [
      "-90\n",
      "-72\n",
      "-54\n",
      "-36\n",
      "-18\n",
      "0\n",
      "18\n",
      "36\n",
      "54\n",
      "72\n"
     ]
    }
   ],
   "source": [
    "print_multiplication_table(9)"
   ]
  },
  {
   "cell_type": "markdown",
   "id": "3ca89465-1ab2-44fe-a5e6-27c455b9fc5a",
   "metadata": {},
   "source": [
    "**Create a function called manage_fruits that takes a list of fruits as a parameter. The function should:**\n",
    "\n",
    "- Add a new fruit (passed as a second parameter) to the end of the list\n",
    "- Remove a fruit (passed as a third parameter) from the list\n",
    "- Sort the list alphabetically\n",
    "- Return the modified list"
   ]
  },
  {
   "cell_type": "code",
   "execution_count": 111,
   "id": "b8ec8909-f22a-41f6-bef1-92603ae6e139",
   "metadata": {},
   "outputs": [],
   "source": [
    "def manage_fruits(fruits, fruit_to_add, fruit_to_remove):\n",
    "    print(\"the list befor modification: \", fruits)\n",
    "\n",
    "    ## Add fruits\n",
    "    if fruit_to_add not in fruits:\n",
    "        fruits.append(fruit_to_add)\n",
    "    else:\n",
    "        print(\"the fruit you want to add is already in the list\")\n",
    "    ## Remove fruits\n",
    "    if fruit_to_remove in fruits:\n",
    "        fruits.remove(fruit_to_remove)\n",
    "    else:\n",
    "        print(\"the fruit you want to remove is not in the list\")\n",
    "    \n",
    "    ## Sort\n",
    "    fruits.sort()\n",
    "    return fruits"
   ]
  },
  {
   "cell_type": "code",
   "execution_count": 112,
   "id": "8ce0a00b-f3ee-4d52-8f2e-fcbd24e8b549",
   "metadata": {},
   "outputs": [
    {
     "name": "stdout",
     "output_type": "stream",
     "text": [
      "the list befor modification:  ['apple', 'banana', 'orange', 'strawberry']\n"
     ]
    },
    {
     "data": {
      "text/plain": [
       "['apple', 'banana', 'mango', 'strawberry']"
      ]
     },
     "execution_count": 112,
     "metadata": {},
     "output_type": "execute_result"
    }
   ],
   "source": [
    "fruits_list = [\"apple\", \"banana\", \"orange\", \"strawberry\"]\n",
    "manage_fruits(fruits_list, \"mango\", \"orange\")"
   ]
  },
  {
   "cell_type": "markdown",
   "id": "16b3b292-2c73-4ee3-8989-a819deb89e02",
   "metadata": {},
   "source": [
    "**Write a function called calculate_grade that takes a student's score as input and returns their grade according to the following criteria:**\n",
    "\n",
    "- A: 90-100\n",
    "- B: 80-89\n",
    "- C: 70-79\n",
    "- D: 60-69\n",
    "- F: below 60"
   ]
  },
  {
   "cell_type": "code",
   "execution_count": 113,
   "id": "f499599a-7f79-4bb0-98a1-71b25612cb8d",
   "metadata": {},
   "outputs": [],
   "source": [
    "def calculate_grade(n):\n",
    "    if n >= 90:\n",
    "        print('A')\n",
    "    elif n<90 and n>=80:\n",
    "        print('B')\n",
    "    elif n<80 and n>= 70:\n",
    "        print('C')\n",
    "    elif n<70 and n>=60:\n",
    "        print('D')\n",
    "    else:\n",
    "        print('F')"
   ]
  },
  {
   "cell_type": "code",
   "execution_count": null,
   "id": "4857dc0a-f234-4920-94c7-18509cad49be",
   "metadata": {},
   "outputs": [],
   "source": [
    "cal_are"
   ]
  },
  {
   "cell_type": "markdown",
   "id": "313fc32b-617a-4d76-bceb-a5a280307b1a",
   "metadata": {},
   "source": [
    "**Create a function called manage_contacts that manages a contact dictionary. It should be able to add a new contact, delete a contact, and update a contact's number.**"
   ]
  },
  {
   "cell_type": "code",
   "execution_count": 18,
   "id": "a5635e15-7a85-4709-93a2-91b27df7cc56",
   "metadata": {},
   "outputs": [],
   "source": [
    "def manage_contacts(contacts, action, name, number=None):\n",
    "    pass"
   ]
  },
  {
   "cell_type": "code",
   "execution_count": 19,
   "id": "c87b9f30-82a4-42ff-baf7-81967403f23b",
   "metadata": {},
   "outputs": [],
   "source": [
    "phone_book = {\"Ramin\": \"0993212\", \"Reza\": \"0999999\", \"Amir\": \"08888111\"} "
   ]
  },
  {
   "cell_type": "markdown",
   "id": "fce94c74-f45b-4ea6-82b1-2145aa8a6967",
   "metadata": {},
   "source": [
    "**Create a function called filter_even_numbers that uses list comprehension to filter out all odd numbers from a list and return only the even numbers.**"
   ]
  },
  {
   "cell_type": "code",
   "execution_count": 21,
   "id": "d4359d69-185b-464f-ad1a-45221b1bb0cb",
   "metadata": {},
   "outputs": [],
   "source": [
    "def filter_even(n_list):\n",
    "    pass"
   ]
  },
  {
   "cell_type": "markdown",
   "id": "809083f7-4fac-4983-ba94-34b0c77364da",
   "metadata": {},
   "source": [
    "## File I/O"
   ]
  },
  {
   "cell_type": "markdown",
   "id": "61d46fba-6feb-4bec-9d2d-5326e1d2d98b",
   "metadata": {},
   "source": [
    "read from and write on disk"
   ]
  },
  {
   "cell_type": "markdown",
   "id": "bb8d3f9a-52bb-456b-9543-15fd35cf2c1e",
   "metadata": {},
   "source": [
    "os module"
   ]
  },
  {
   "cell_type": "code",
   "execution_count": 1,
   "id": "ee4ff2dc-bd86-40bc-aff8-ff9f50730597",
   "metadata": {},
   "outputs": [],
   "source": [
    "import os"
   ]
  },
  {
   "cell_type": "code",
   "execution_count": 4,
   "id": "15049656-4921-42f5-bc9e-fc2ced08413a",
   "metadata": {},
   "outputs": [
    {
     "data": {
      "text/plain": [
       "'.'"
      ]
     },
     "execution_count": 4,
     "metadata": {},
     "output_type": "execute_result"
    }
   ],
   "source": [
    "os.curdir"
   ]
  },
  {
   "cell_type": "code",
   "execution_count": null,
   "id": "b418a12d-c066-45b0-a407-a3b547924aee",
   "metadata": {},
   "outputs": [],
   "source": []
  }
 ],
 "metadata": {
  "kernelspec": {
   "display_name": "Python 3 (ipykernel)",
   "language": "python",
   "name": "python3"
  },
  "language_info": {
   "codemirror_mode": {
    "name": "ipython",
    "version": 3
   },
   "file_extension": ".py",
   "mimetype": "text/x-python",
   "name": "python",
   "nbconvert_exporter": "python",
   "pygments_lexer": "ipython3",
   "version": "3.12.7"
  }
 },
 "nbformat": 4,
 "nbformat_minor": 5
}
