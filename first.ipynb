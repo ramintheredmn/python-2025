{
 "cells": [
  {
   "cell_type": "markdown",
   "id": "1f7d42c4-2a62-4fa4-910b-712ed034185e",
   "metadata": {},
   "source": [
    "## Welcome to the jupyter-lab\n",
    "### This is a markdown cell\n",
    "\n",
    "Everything you wrote here won't be executed\n",
    "\n",
    "you can convert a cell code to markdown cell with 'm' key on the keyboard and 'y' is for converting markdown cell to code cell. you must be in the view mode to see the effects.\n",
    "\n",
    "_below is a code cell example_\n"
   ]
  },
  {
   "cell_type": "code",
   "execution_count": 1,
   "id": "b7763cef-7e4f-4a3f-ba52-aa3d082d3394",
   "metadata": {},
   "outputs": [
    {
     "name": "stdout",
     "output_type": "stream",
     "text": [
      "This is a Code Cell\n"
     ]
    }
   ],
   "source": [
    "print(\"This is a Code Cell\")"
   ]
  },
  {
   "cell_type": "markdown",
   "id": "ead3fafb-b57d-4233-8c37-0652186c5b91",
   "metadata": {},
   "source": [
    "## Defining variable and output\n",
    "\n",
    "Every variable have a name, type and an initial value. In dynamically typed languages like python there is no need to specify the type, but there is something called type annotations.\n",
    "\n",
    "1. Define a String variable with the value \"Hello, world\" in it and print the "
   ]
  }
 ],
 "metadata": {
  "kernelspec": {
   "display_name": "Python 3 (ipykernel)",
   "language": "python",
   "name": "python3"
  },
  "language_info": {
   "codemirror_mode": {
    "name": "ipython",
    "version": 3
   },
   "file_extension": ".py",
   "mimetype": "text/x-python",
   "name": "python",
   "nbconvert_exporter": "python",
   "pygments_lexer": "ipython3",
   "version": "3.12.7"
  }
 },
 "nbformat": 4,
 "nbformat_minor": 5
}
