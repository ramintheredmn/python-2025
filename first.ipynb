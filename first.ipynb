{
 "cells": [
  {
   "cell_type": "markdown",
   "id": "1f7d42c4-2a62-4fa4-910b-712ed034185e",
   "metadata": {},
   "source": [
    "## Welcome to the jupyter-lab\n",
    "### This is a markdown cell\n",
    "\n",
    "Everything you wrote here won't be executed\n",
    "\n",
    "you can convert a cell code to markdown cell with 'm' key on the keyboard and 'y' is for converting markdown cell to code cell. you must be in the view mode to see the effects.\n",
    "\n",
    "- Double click or press enter on the cell to enter editing mode.\n",
    "- Ctrl + Enter to run the cell\n",
    "- Shift + Enter to run the cell and jump to the next cell\n",
    "_below is a code cell example_\n"
   ]
  },
  {
   "cell_type": "code",
   "execution_count": 2,
   "id": "b7763cef-7e4f-4a3f-ba52-aa3d082d3394",
   "metadata": {},
   "outputs": [
    {
     "name": "stdout",
     "output_type": "stream",
     "text": [
      "This is a Code Cell\n"
     ]
    }
   ],
   "source": [
    "print(\"This is a Code Cell\")"
   ]
  },
  {
   "cell_type": "markdown",
   "id": "ead3fafb-b57d-4233-8c37-0652186c5b91",
   "metadata": {},
   "source": [
    "## Arithmetic operators"
   ]
  },
  {
   "cell_type": "code",
   "execution_count": 4,
   "id": "5f199fb5-3c57-44ef-967f-898bda4b4cfb",
   "metadata": {},
   "outputs": [
    {
     "data": {
      "text/plain": [
       "46"
      ]
     },
     "execution_count": 4,
     "metadata": {},
     "output_type": "execute_result"
    }
   ],
   "source": [
    "34 + 12"
   ]
  },
  {
   "cell_type": "code",
   "execution_count": 5,
   "id": "33b8a0b3-3e1c-42ea-9f80-1cc09d2f9b9c",
   "metadata": {},
   "outputs": [
    {
     "data": {
      "text/plain": [
       "99"
      ]
     },
     "execution_count": 5,
     "metadata": {},
     "output_type": "execute_result"
    }
   ],
   "source": [
    "100 - 1"
   ]
  },
  {
   "cell_type": "code",
   "execution_count": 6,
   "id": "c2cd9ecc-eb11-4285-acba-c47149cb510c",
   "metadata": {},
   "outputs": [
    {
     "data": {
      "text/plain": [
       "56"
      ]
     },
     "execution_count": 6,
     "metadata": {},
     "output_type": "execute_result"
    }
   ],
   "source": [
    "7 * 8"
   ]
  },
  {
   "cell_type": "code",
   "execution_count": 7,
   "id": "0c7a7ddb-5c04-4c00-b37a-aa36f269712b",
   "metadata": {},
   "outputs": [
    {
     "data": {
      "text/plain": [
       "1.25"
      ]
     },
     "execution_count": 7,
     "metadata": {},
     "output_type": "execute_result"
    }
   ],
   "source": [
    "5 / 4"
   ]
  },
  {
   "cell_type": "code",
   "execution_count": 8,
   "id": "2c929487-d745-4ba6-8706-dd8d68f36289",
   "metadata": {},
   "outputs": [
    {
     "data": {
      "text/plain": [
       "1"
      ]
     },
     "execution_count": 8,
     "metadata": {},
     "output_type": "execute_result"
    }
   ],
   "source": [
    "5 // 4"
   ]
  },
  {
   "cell_type": "code",
   "execution_count": 9,
   "id": "476918bf-29bb-4573-b936-2d2a7afb674b",
   "metadata": {},
   "outputs": [
    {
     "data": {
      "text/plain": [
       "1"
      ]
     },
     "execution_count": 9,
     "metadata": {},
     "output_type": "execute_result"
    }
   ],
   "source": [
    "5 % 4"
   ]
  },
  {
   "cell_type": "code",
   "execution_count": 10,
   "id": "2a3dc4e7-0120-4248-b2a5-ad2d5d29603e",
   "metadata": {},
   "outputs": [
    {
     "data": {
      "text/plain": [
       "25"
      ]
     },
     "execution_count": 10,
     "metadata": {},
     "output_type": "execute_result"
    }
   ],
   "source": [
    "5 ** 2"
   ]
  },
  {
   "cell_type": "code",
   "execution_count": 14,
   "id": "687e5c80-6d9a-4e25-bec7-797650cab4ce",
   "metadata": {},
   "outputs": [
    {
     "data": {
      "text/plain": [
       "1"
      ]
     },
     "execution_count": 14,
     "metadata": {},
     "output_type": "execute_result"
    }
   ],
   "source": [
    "10 ^ 11 # XOR bitwise operator not exponentiation"
   ]
  },
  {
   "cell_type": "markdown",
   "id": "ccf54ab2-616b-4e08-88af-bfcc12b5631d",
   "metadata": {},
   "source": [
    "### Order of operations in an expression"
   ]
  },
  {
   "cell_type": "code",
   "execution_count": 15,
   "id": "40ae1f4d-9b72-4845-b7f8-8606667a7387",
   "metadata": {},
   "outputs": [
    {
     "data": {
      "text/plain": [
       "0"
      ]
     },
     "execution_count": 15,
     "metadata": {},
     "output_type": "execute_result"
    }
   ],
   "source": [
    "-5**2 + 25"
   ]
  },
  {
   "cell_type": "markdown",
   "id": "df8a6979-fc56-4ea3-9e28-5d1a60602ca5",
   "metadata": {},
   "source": [
    "### Arithmatic Functions"
   ]
  },
  {
   "cell_type": "code",
   "execution_count": 17,
   "id": "6ab26f18-5824-40cd-ab1b-704f4d4721cb",
   "metadata": {},
   "outputs": [
    {
     "data": {
      "text/plain": [
       "6"
      ]
     },
     "execution_count": 17,
     "metadata": {},
     "output_type": "execute_result"
    }
   ],
   "source": [
    "round(5.5)"
   ]
  },
  {
   "cell_type": "code",
   "execution_count": 20,
   "id": "1505eb1e-7f82-4843-9f47-1c25baf123e9",
   "metadata": {},
   "outputs": [
    {
     "data": {
      "text/plain": [
       "5"
      ]
     },
     "execution_count": 20,
     "metadata": {},
     "output_type": "execute_result"
    }
   ],
   "source": [
    "abs(5)"
   ]
  },
  {
   "cell_type": "code",
   "execution_count": 21,
   "id": "6011cdd9-3a40-4d8e-87a6-fc1621caa5bc",
   "metadata": {},
   "outputs": [
    {
     "data": {
      "text/plain": [
       "5"
      ]
     },
     "execution_count": 21,
     "metadata": {},
     "output_type": "execute_result"
    }
   ],
   "source": [
    "abs(-5)"
   ]
  },
  {
   "cell_type": "markdown",
   "id": "6bb7fb83-2991-4537-9d3b-b057aa0f0f10",
   "metadata": {},
   "source": [
    "## Strings in python"
   ]
  },
  {
   "cell_type": "code",
   "execution_count": 22,
   "id": "51372051-4104-43c1-9407-5a4dec4ccc4d",
   "metadata": {},
   "outputs": [
    {
     "data": {
      "text/plain": [
       "'Hello'"
      ]
     },
     "execution_count": 22,
     "metadata": {},
     "output_type": "execute_result"
    }
   ],
   "source": [
    "'Hello'"
   ]
  },
  {
   "cell_type": "code",
   "execution_count": 24,
   "id": "5794a2ec-de1a-4370-a366-e41f0d6f0598",
   "metadata": {},
   "outputs": [
    {
     "data": {
      "text/plain": [
       "'world'"
      ]
     },
     "execution_count": 24,
     "metadata": {},
     "output_type": "execute_result"
    }
   ],
   "source": [
    "\"world\""
   ]
  },
  {
   "cell_type": "code",
   "execution_count": 25,
   "id": "f7edf7c1-c5c3-4ee0-877b-bd0121de43f3",
   "metadata": {},
   "outputs": [
    {
     "data": {
      "text/plain": [
       "\"Ramin's book\""
      ]
     },
     "execution_count": 25,
     "metadata": {},
     "output_type": "execute_result"
    }
   ],
   "source": [
    "\"Ramin's book\""
   ]
  },
  {
   "cell_type": "code",
   "execution_count": 26,
   "id": "b2f9f1c1-127e-403d-8048-5090d686c28a",
   "metadata": {},
   "outputs": [
    {
     "ename": "SyntaxError",
     "evalue": "unterminated string literal (detected at line 1) (511148876.py, line 1)",
     "output_type": "error",
     "traceback": [
      "\u001b[0;36m  Cell \u001b[0;32mIn[26], line 1\u001b[0;36m\u001b[0m\n\u001b[0;31m    'ramin's book'\u001b[0m\n\u001b[0m                 ^\u001b[0m\n\u001b[0;31mSyntaxError\u001b[0m\u001b[0;31m:\u001b[0m unterminated string literal (detected at line 1)\n"
     ]
    }
   ],
   "source": [
    "'ramin's book'"
   ]
  },
  {
   "cell_type": "markdown",
   "id": "206cc198-62a9-4e0e-8975-cda313d3c0d7",
   "metadata": {},
   "source": [
    "## Variables\n",
    "\n",
    "A variable is a name that refers to a value. To create a variable, we can write an assignment statement like this:\n",
    "\n",
    "an assignment statement will have 3 parts, the name of the variable on the left, equal sign and the expression on the right"
   ]
  },
  {
   "cell_type": "code",
   "execution_count": 29,
   "id": "99008bae-4fc1-477b-a273-2132d90d98cb",
   "metadata": {},
   "outputs": [],
   "source": [
    "x = 4"
   ]
  },
  {
   "cell_type": "code",
   "execution_count": 30,
   "id": "96e385f6-0f21-483d-97bc-fc3c65a7772a",
   "metadata": {},
   "outputs": [
    {
     "data": {
      "text/plain": [
       "9"
      ]
     },
     "execution_count": 30,
     "metadata": {},
     "output_type": "execute_result"
    }
   ],
   "source": [
    "5 + x"
   ]
  },
  {
   "cell_type": "code",
   "execution_count": 36,
   "id": "8feaa426-c0c0-40b9-8d82-c2ff7cb017eb",
   "metadata": {},
   "outputs": [],
   "source": [
    "# name rules"
   ]
  },
  {
   "cell_type": "markdown",
   "id": "10bf85f7-aa36-4d25-b714-0876f98239de",
   "metadata": {},
   "source": [
    "## the import statement\n",
    "\n",
    "In order to use some python features, we need to import them. "
   ]
  },
  {
   "cell_type": "code",
   "execution_count": 37,
   "id": "579473af-39cf-422e-83cf-c690ebac24cb",
   "metadata": {},
   "outputs": [],
   "source": [
    "import math"
   ]
  },
  {
   "cell_type": "code",
   "execution_count": 39,
   "id": "f32096a8-db9d-420e-8315-5a8b47aae691",
   "metadata": {},
   "outputs": [
    {
     "data": {
      "text/plain": [
       "3.141592653589793"
      ]
     },
     "execution_count": 39,
     "metadata": {},
     "output_type": "execute_result"
    }
   ],
   "source": [
    "math.pi"
   ]
  },
  {
   "cell_type": "code",
   "execution_count": 40,
   "id": "af134c9d-1567-4a14-af2e-3d69366fb1e8",
   "metadata": {},
   "outputs": [
    {
     "data": {
      "text/plain": [
       "5.0"
      ]
     },
     "execution_count": 40,
     "metadata": {},
     "output_type": "execute_result"
    }
   ],
   "source": [
    "math.sqrt(25)"
   ]
  },
  {
   "cell_type": "markdown",
   "id": "f62fc496-6d0f-4d50-a9a5-152fe5cdd5e6",
   "metadata": {},
   "source": [
    "## output and input"
   ]
  },
  {
   "cell_type": "markdown",
   "id": "89bc5edd-b6f6-4467-bbb9-6dceb1868a20",
   "metadata": {},
   "source": [
    "### Print function\n",
    "\n",
    "prints the specified message to the screen"
   ]
  },
  {
   "cell_type": "code",
   "execution_count": 27,
   "id": "e096ed8a-0a67-4fc4-9721-f907c5fadb87",
   "metadata": {},
   "outputs": [
    {
     "name": "stdout",
     "output_type": "stream",
     "text": [
      "4\n"
     ]
    }
   ],
   "source": [
    "print(4)"
   ]
  },
  {
   "cell_type": "code",
   "execution_count": 28,
   "id": "682d694a-4309-44d0-9730-451e228819f7",
   "metadata": {},
   "outputs": [],
   "source": [
    "# write a code to print Hello world string to the screen"
   ]
  },
  {
   "cell_type": "markdown",
   "id": "b2b5bcfc-f686-4185-b870-995dd5b8be37",
   "metadata": {},
   "source": [
    "### input function"
   ]
  },
  {
   "cell_type": "code",
   "execution_count": 42,
   "id": "1dca3aa9-d1b4-4e58-8af8-45581b3dc955",
   "metadata": {},
   "outputs": [
    {
     "name": "stdin",
     "output_type": "stream",
     "text": [
      "Enter your name :  Ramin\n"
     ]
    },
    {
     "name": "stdout",
     "output_type": "stream",
     "text": [
      "Hello,  Ramin\n"
     ]
    }
   ],
   "source": [
    "x = input(\"Enter your name : \")\n",
    "print(\"Hello, \", x)"
   ]
  },
  {
   "cell_type": "code",
   "execution_count": 43,
   "id": "5d67a0b2-a9e1-4773-8ef6-e1f7280f0be1",
   "metadata": {},
   "outputs": [],
   "source": [
    "# write a program that gets a number from the user and prints the square of it"
   ]
  },
  {
   "cell_type": "markdown",
   "id": "8111d700-def1-4d5a-9aa3-b31463ea0fe7",
   "metadata": {},
   "source": [
    "## Arguments"
   ]
  },
  {
   "cell_type": "code",
   "execution_count": 48,
   "id": "b77f2ef6-381a-405e-bf61-214f2d7fe417",
   "metadata": {},
   "outputs": [],
   "source": [
    "###"
   ]
  },
  {
   "cell_type": "code",
   "execution_count": 49,
   "id": "0b4f9231-1cec-4833-b01a-dece7f0e56f0",
   "metadata": {},
   "outputs": [
    {
     "data": {
      "text/plain": [
       "16.0"
      ]
     },
     "execution_count": 49,
     "metadata": {},
     "output_type": "execute_result"
    }
   ],
   "source": [
    "math.pow(2, 4)"
   ]
  },
  {
   "cell_type": "code",
   "execution_count": 47,
   "id": "357c5062-a389-4a02-999f-1225b2ff1427",
   "metadata": {},
   "outputs": [
    {
     "name": "stdout",
     "output_type": "stream",
     "text": [
      "Hello,  2\n"
     ]
    }
   ],
   "source": [
    "print('Hello, ', x)"
   ]
  },
  {
   "cell_type": "markdown",
   "id": "9eae4e34-e31a-48eb-9681-7d8c51486c30",
   "metadata": {},
   "source": [
    "## Defining new functions"
   ]
  },
  {
   "cell_type": "code",
   "execution_count": 52,
   "id": "f0c42306-f17d-459a-8b5e-a859ce66e0bb",
   "metadata": {},
   "outputs": [],
   "source": [
    "def print_lyrics():\n",
    "    print(\"Can I waste all your time here on the sidewalk?\")\n",
    "    print(\"Can I stand in your light just for a while?\")"
   ]
  },
  {
   "cell_type": "code",
   "execution_count": 54,
   "id": "eff2c68d-fbed-4e43-b286-bfee6be24789",
   "metadata": {},
   "outputs": [
    {
     "data": {
      "text/plain": [
       "<function __main__.print_lyrics()>"
      ]
     },
     "execution_count": 54,
     "metadata": {},
     "output_type": "execute_result"
    }
   ],
   "source": [
    "print_lyrics"
   ]
  },
  {
   "cell_type": "code",
   "execution_count": 53,
   "id": "744c1555-c1fc-4db0-b5cf-ae931e2e27c1",
   "metadata": {},
   "outputs": [
    {
     "name": "stdout",
     "output_type": "stream",
     "text": [
      "Can I waste all your time here on the sidewalk?\n",
      "Can I stand in your light just for a while?\n"
     ]
    }
   ],
   "source": [
    "print_lyrics()"
   ]
  },
  {
   "cell_type": "markdown",
   "id": "095f655f-c2d8-4c43-b3ce-31366684f6e4",
   "metadata": {},
   "source": [
    "### Parameters (Arguments)"
   ]
  },
  {
   "cell_type": "code",
   "execution_count": 55,
   "id": "79bd9192-aa60-4702-8f25-face8336cbdd",
   "metadata": {},
   "outputs": [],
   "source": [
    "def print_twice(string):\n",
    "    print(string)\n",
    "    print(string)"
   ]
  },
  {
   "cell_type": "code",
   "execution_count": 56,
   "id": "8ef8078e-de00-48ee-9e4e-9d0fa46b17ad",
   "metadata": {},
   "outputs": [
    {
     "name": "stdout",
     "output_type": "stream",
     "text": [
      "Ramin Rafiee\n",
      "Ramin Rafiee\n"
     ]
    }
   ],
   "source": [
    "print_twice(\"Ramin Rafiee\")"
   ]
  },
  {
   "cell_type": "code",
   "execution_count": 57,
   "id": "a9f2ea89-183d-4278-8355-9a1a0b81c82f",
   "metadata": {},
   "outputs": [],
   "source": [
    "### define a functions that accepts a raduis and calcultes the area of the correspinding circle, use the exact pi from the math module"
   ]
  },
  {
   "cell_type": "code",
   "execution_count": 59,
   "id": "bbd4e8e2-39ba-41ff-9988-cd8dbb1eb8e5",
   "metadata": {},
   "outputs": [],
   "source": [
    "### define a function that accepts the length and width of a rectangle and returns the area of the corresponding rectangle"
   ]
  },
  {
   "cell_type": "markdown",
   "id": "eab933d1-0055-4050-92d1-6e086e59f2fd",
   "metadata": {},
   "source": [
    "## Repetition"
   ]
  },
  {
   "cell_type": "code",
   "execution_count": 58,
   "id": "d7c3812a-9d86-4938-89ba-babe4da49d41",
   "metadata": {},
   "outputs": [
    {
     "name": "stdout",
     "output_type": "stream",
     "text": [
      "0\n",
      "1\n",
      "2\n",
      "3\n",
      "4\n"
     ]
    }
   ],
   "source": [
    "for i in range(5):\n",
    "    print(i)"
   ]
  },
  {
   "cell_type": "code",
   "execution_count": null,
   "id": "529a99b5-43ea-49ec-b6cb-eb6089e3a1bc",
   "metadata": {},
   "outputs": [],
   "source": []
  }
 ],
 "metadata": {
  "kernelspec": {
   "display_name": "Python 3 (ipykernel)",
   "language": "python",
   "name": "python3"
  },
  "language_info": {
   "codemirror_mode": {
    "name": "ipython",
    "version": 3
   },
   "file_extension": ".py",
   "mimetype": "text/x-python",
   "name": "python",
   "nbconvert_exporter": "python",
   "pygments_lexer": "ipython3",
   "version": "3.12.7"
  }
 },
 "nbformat": 4,
 "nbformat_minor": 5
}
